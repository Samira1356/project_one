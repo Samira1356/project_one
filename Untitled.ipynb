{
 "cells": [
  {
   "cell_type": "code",
   "execution_count": 2,
   "metadata": {
    "collapsed": false
   },
   "outputs": [
    {
     "data": {
      "text/plain": [
       "{'gyms_visited': [],\n",
       " 'player_id': 1,\n",
       " 'player_name': 'Ash',\n",
       " 'player_pokemon': {},\n",
       " 'time_played': 158.2}"
      ]
     },
     "execution_count": 2,
     "metadata": {},
     "output_type": "execute_result"
    }
   ],
   "source": [
    "new_player_one = {\n",
    "    'player_id': 1,\n",
    "    'player_name': 'Ash',\n",
    "    'time_played': 158.2,\n",
    "    'player_pokemon': {},\n",
    "    'gyms_visited': []\n",
    "}\n",
    "\n",
    "new_player_one"
   ]
  },
  {
   "cell_type": "code",
   "execution_count": 3,
   "metadata": {
    "collapsed": true
   },
   "outputs": [],
   "source": [
    "gyms = [\n",
    "    'reddit.com',\n",
    "    'amazon.com',\n",
    "    'twitter.com',\n",
    "    'linkedin.com',\n",
    "    'ebay.com',\n",
    "    'netflix.com',\n",
    "    'stackoverflow.com',\n",
    "    'github.com',\n",
    "    'quora.com'\n",
    "]\n",
    "\n",
    "new_player_one['gyms_visited'] = gyms[0:2]"
   ]
  },
  {
   "cell_type": "code",
   "execution_count": 5,
   "metadata": {
    "collapsed": false
   },
   "outputs": [
    {
     "data": {
      "text/plain": [
       "['reddit.com', 'amazon.com']"
      ]
     },
     "execution_count": 5,
     "metadata": {},
     "output_type": "execute_result"
    }
   ],
   "source": [
    "new_player_one['gyms_visited']"
   ]
  },
  {
   "cell_type": "code",
   "execution_count": 6,
   "metadata": {
    "collapsed": true
   },
   "outputs": [],
   "source": [
    "pokedex = {\n",
    "    1: {\n",
    "    'pokemon_id': 1,\n",
    "    'name': 'charmander',\n",
    "    'type': 'fire',\n",
    "    'hp': 100,\n",
    "    'atk': 20,\n",
    "    'def': 10,\n",
    "    'special_atk': 30,\n",
    "    'special_def': 20,\n",
    "    'speed': 10\n",
    "    },\n",
    "    2: {\n",
    "    'pokemon_id': 2,\n",
    "    'name': 'squirtle',\n",
    "    'type': 'water',\n",
    "    'hp': 80,\n",
    "    'atk': 10,\n",
    "    'def': 20,\n",
    "    'special_atk': 20,\n",
    "    'special_def': 30,\n",
    "    'speed': 10\n",
    "    },\n",
    "    3: {\n",
    "    'pokemon_id': 3,\n",
    "    'name': 'bulbasaur',\n",
    "    'type': 'grass',\n",
    "    'hp': 90,\n",
    "    'atk': 15,\n",
    "    'def': 15,\n",
    "    'special_atk': 25,\n",
    "    'special_def': 25,\n",
    "    'speed': 10\n",
    "    }\n",
    "}\n",
    "\n"
   ]
  },
  {
   "cell_type": "code",
   "execution_count": 8,
   "metadata": {
    "collapsed": false
   },
   "outputs": [
    {
     "data": {
      "text/plain": [
       "{1: {'gyms_visited': ['reddit.com', 'amazon.com'],\n",
       "  'player_id': 1,\n",
       "  'player_name': 'Ash',\n",
       "  'player_pokemon': {},\n",
       "  'time_played': 158.2}}"
      ]
     },
     "execution_count": 8,
     "metadata": {},
     "output_type": "execute_result"
    }
   ],
   "source": [
    "player_database = {}\n",
    "\n",
    "player_database[new_player_one['player_id']] = new_player_one\n",
    "player_database"
   ]
  },
  {
   "cell_type": "code",
   "execution_count": 12,
   "metadata": {
    "collapsed": false
   },
   "outputs": [
    {
     "data": {
      "text/plain": [
       "{'gyms_visited': ['alcatraz', 'pacific_beach'],\n",
       " 'player_id': 2,\n",
       " 'player_name': 'Red',\n",
       " 'player_pokemon': {},\n",
       " 'time_played': 121.8}"
      ]
     },
     "execution_count": 12,
     "metadata": {},
     "output_type": "execute_result"
    }
   ],
   "source": [
    "new_player_two = {\n",
    "    'player_id': 2,\n",
    "    'player_name': 'Red',\n",
    "    'time_played': 121.8,\n",
    "    'player_pokemon': {},\n",
    "    'gyms_visited': ['alcatraz','pacific_beach']\n",
    "\n",
    "}\n",
    "new_player_two"
   ]
  },
  {
   "cell_type": "code",
   "execution_count": 13,
   "metadata": {
    "collapsed": true
   },
   "outputs": [],
   "source": [
    "new_player_one['player_pokemon'].update({1:pokedex[2]})\n",
    "new_player_two['player_pokemon'].update({1:pokedex[1]})\n",
    "new_player_two['player_pokemon'].update({2:pokedex[3]})\n",
    "\n"
   ]
  },
  {
   "cell_type": "code",
   "execution_count": 20,
   "metadata": {
    "collapsed": false
   },
   "outputs": [
    {
     "data": {
      "text/plain": [
       "{'gyms_visited': ['alcatraz', 'pacific_beach'],\n",
       " 'player_id': 2,\n",
       " 'player_name': 'Red',\n",
       " 'player_pokemon': ({'atk': 20,\n",
       "   'def': 10,\n",
       "   'hp': 100,\n",
       "   'name': 'charmander',\n",
       "   'pokemon_id': 1,\n",
       "   'special_atk': 30,\n",
       "   'special_def': 20,\n",
       "   'speed': 10,\n",
       "   'type': 'fire'},\n",
       "  {'atk': 15,\n",
       "   'def': 15,\n",
       "   'hp': 90,\n",
       "   'name': 'bulbasaur',\n",
       "   'pokemon_id': 3,\n",
       "   'special_atk': 25,\n",
       "   'special_def': 25,\n",
       "   'speed': 10,\n",
       "   'type': 'grass'}),\n",
       " 'time_played': 121.8}"
      ]
     },
     "execution_count": 20,
     "metadata": {},
     "output_type": "execute_result"
    }
   ],
   "source": [
    "new_player_one['player_pokemon'] = pokedex[2]\n",
    "new_player_two['player_pokemon'] = pokedex[1], pokedex[3]\n",
    "new_player_one\n",
    "# we can print the new player two by :\n",
    "new_player_two"
   ]
  },
  {
   "cell_type": "code",
   "execution_count": 33,
   "metadata": {
    "collapsed": false
   },
   "outputs": [
    {
     "name": "stdout",
     "output_type": "stream",
     "text": [
      "Ash has visited reddit.com\n",
      "Ash has visited amazon.com\n"
     ]
    }
   ],
   "source": [
    "for gym in gyms:\n",
    "    for k in new_player_one['gyms_visited']:\n",
    "        if  k == gym:\n",
    "            print (\"%s has visited %s\" % (new_player_one['player_name'], k))\n",
    "\n",
    "for gym in gyms:\n",
    "    for k in new_player_two['gyms_visited']:\n",
    "        if  k == gym:\n",
    "            print (\"%s has visited %s\" % (new_player_two['player_name'], k))"
   ]
  },
  {
   "cell_type": "code",
   "execution_count": 38,
   "metadata": {
    "collapsed": false
   },
   "outputs": [
    {
     "ename": "TypeError",
     "evalue": "'int' object is not subscriptable",
     "output_type": "error",
     "traceback": [
      "\u001b[0;31m---------------------------------------------------------------------------\u001b[0m",
      "\u001b[0;31mTypeError\u001b[0m                                 Traceback (most recent call last)",
      "\u001b[0;32m<ipython-input-38-b1fdc21396eb>\u001b[0m in \u001b[0;36m<module>\u001b[0;34m()\u001b[0m\n\u001b[1;32m      8\u001b[0m     \u001b[0mprint\u001b[0m \u001b[0;34m(\u001b[0m\u001b[0;34m\"%s's atk power is %s, his def power is %s\"\u001b[0m \u001b[0;34m%\u001b[0m \u001b[0;34m(\u001b[0m\u001b[0mplayer_dict\u001b[0m\u001b[0;34m[\u001b[0m\u001b[0mid\u001b[0m\u001b[0;34m]\u001b[0m\u001b[0;34m[\u001b[0m\u001b[0;34m'player_name'\u001b[0m\u001b[0;34m]\u001b[0m\u001b[0;34m,\u001b[0m \u001b[0matk_power\u001b[0m\u001b[0;34m,\u001b[0m \u001b[0mdef_power\u001b[0m\u001b[0;34m)\u001b[0m\u001b[0;34m)\u001b[0m\u001b[0;34m\u001b[0m\u001b[0m\n\u001b[1;32m      9\u001b[0m \u001b[0;34m\u001b[0m\u001b[0m\n\u001b[0;32m---> 10\u001b[0;31m \u001b[0mplayer_power\u001b[0m\u001b[0;34m(\u001b[0m\u001b[0mplayer_database\u001b[0m\u001b[0;34m,\u001b[0m \u001b[0;36m1\u001b[0m\u001b[0;34m)\u001b[0m\u001b[0;34m\u001b[0m\u001b[0m\n\u001b[0m\u001b[1;32m     11\u001b[0m \u001b[0mplayer_power\u001b[0m\u001b[0;34m(\u001b[0m\u001b[0mplayer_database\u001b[0m\u001b[0;34m,\u001b[0m \u001b[0;36m2\u001b[0m\u001b[0;34m)\u001b[0m\u001b[0;34m\u001b[0m\u001b[0m\n",
      "\u001b[0;32m<ipython-input-38-b1fdc21396eb>\u001b[0m in \u001b[0;36mplayer_power\u001b[0;34m(player_dict, id)\u001b[0m\n\u001b[1;32m      4\u001b[0m     \u001b[0mplayer_pokemons\u001b[0m \u001b[0;34m=\u001b[0m \u001b[0mplayer_dict\u001b[0m\u001b[0;34m[\u001b[0m\u001b[0mid\u001b[0m\u001b[0;34m]\u001b[0m\u001b[0;34m[\u001b[0m\u001b[0;34m'player_pokemon'\u001b[0m\u001b[0;34m]\u001b[0m\u001b[0;34m.\u001b[0m\u001b[0mvalues\u001b[0m\u001b[0;34m(\u001b[0m\u001b[0;34m)\u001b[0m\u001b[0;34m\u001b[0m\u001b[0m\n\u001b[1;32m      5\u001b[0m     \u001b[0;32mfor\u001b[0m \u001b[0mpokemon\u001b[0m \u001b[0;32min\u001b[0m \u001b[0mplayer_pokemons\u001b[0m\u001b[0;34m:\u001b[0m\u001b[0;34m\u001b[0m\u001b[0m\n\u001b[0;32m----> 6\u001b[0;31m         \u001b[0matk_power\u001b[0m \u001b[0;34m+=\u001b[0m \u001b[0mpokemon\u001b[0m\u001b[0;34m[\u001b[0m\u001b[0;34m'atk'\u001b[0m\u001b[0;34m]\u001b[0m\u001b[0;34m\u001b[0m\u001b[0m\n\u001b[0m\u001b[1;32m      7\u001b[0m         \u001b[0mdef_power\u001b[0m \u001b[0;34m+=\u001b[0m \u001b[0mpokemon\u001b[0m\u001b[0;34m[\u001b[0m\u001b[0;34m'def'\u001b[0m\u001b[0;34m]\u001b[0m\u001b[0;34m\u001b[0m\u001b[0m\n\u001b[1;32m      8\u001b[0m     \u001b[0mprint\u001b[0m \u001b[0;34m(\u001b[0m\u001b[0;34m\"%s's atk power is %s, his def power is %s\"\u001b[0m \u001b[0;34m%\u001b[0m \u001b[0;34m(\u001b[0m\u001b[0mplayer_dict\u001b[0m\u001b[0;34m[\u001b[0m\u001b[0mid\u001b[0m\u001b[0;34m]\u001b[0m\u001b[0;34m[\u001b[0m\u001b[0;34m'player_name'\u001b[0m\u001b[0;34m]\u001b[0m\u001b[0;34m,\u001b[0m \u001b[0matk_power\u001b[0m\u001b[0;34m,\u001b[0m \u001b[0mdef_power\u001b[0m\u001b[0;34m)\u001b[0m\u001b[0;34m)\u001b[0m\u001b[0;34m\u001b[0m\u001b[0m\n",
      "\u001b[0;31mTypeError\u001b[0m: 'int' object is not subscriptable"
     ]
    }
   ],
   "source": [
    "def player_power(player_dict, id):\n",
    "    atk_power = [0]\n",
    "    def_power = [0]\n",
    "    player_pokemons = player_dict[id]['player_pokemon'].values()\n",
    "    for pokemon in player_pokemons:\n",
    "        atk_power += pokemon['atk']\n",
    "        def_power += pokemon['def']\n",
    "    print \"%s's atk power is %s, his def power is %s\" % (player_dict[id]['player_name'], atk_power, def_power\n",
    "\n",
    "player_power(player_database, 1)\n",
    "player_power(player_database, 2)"
   ]
  },
  {
   "cell_type": "code",
   "execution_count": 41,
   "metadata": {
    "collapsed": false
   },
   "outputs": [
    {
     "ename": "SyntaxError",
     "evalue": "Missing parentheses in call to 'print' (<ipython-input-41-add16c90831b>, line 28)",
     "output_type": "error",
     "traceback": [
      "\u001b[0;36m  File \u001b[0;32m\"<ipython-input-41-add16c90831b>\"\u001b[0;36m, line \u001b[0;32m28\u001b[0m\n\u001b[0;31m    print header\u001b[0m\n\u001b[0m               ^\u001b[0m\n\u001b[0;31mSyntaxError\u001b[0m\u001b[0;31m:\u001b[0m Missing parentheses in call to 'print'\n"
     ]
    }
   ],
   "source": [
    "# Code to read in pokedex info\n",
    "raw_pd = ''\n",
    "pokedex_file = 'pokedex_basic.csv'\n",
    "with open(pokedex_file, 'r') as f:\n",
    "    raw_pd = f.read()\n",
    "\n",
    "cleaned_line = raw_pd.split('\\n')\n",
    "\n",
    "cleaned_line_commas = []\n",
    "for i in cleaned_line:\n",
    "    update = i.replace(',', ',')\n",
    "    cleaned_line_commas.append(update)\n",
    "\n",
    "cleaned_line_quotes = []\n",
    "for i in cleaned_line_commas:\n",
    "    update = i.replace('\"', '')\n",
    "    cleaned_line_quotes.append(update)\n",
    "\n",
    "header = cleaned_line_quotes[0]\n",
    "data = cleaned_line_quotes[1:]\n",
    "\n",
    "header = header.split(',')\n",
    "new_data = []\n",
    "for row in data:\n",
    "    update = row.split(',')\n",
    "    new_data.append(update)\n",
    "\n",
    "print header\n",
    "new_data\n",
    "# the pokedex string is assigned to the raw_pd variable"
   ]
  },
  {
   "cell_type": "code",
   "execution_count": null,
   "metadata": {
    "collapsed": true
   },
   "outputs": [],
   "source": [
    "# Code to read in pokedex info\n",
    "raw_pd = ''\n",
    "pokedex_file = 'pokedex_basic.csv'\n",
    "with open(pokedex_file, 'r') as f:\n",
    "    raw_pd = f.read()\n",
    "\n",
    "cleaned_line = raw_pd.split('\\n')\n",
    "\n",
    "cleaned_line_commas = []\n",
    "for i in cleaned_line:\n",
    "    update = i.replace(',', ',')\n",
    "    cleaned_line_commas.append(update)\n",
    "\n",
    "cleaned_line_quotes = []\n",
    "for i in cleaned_line_commas:\n",
    "    update = i.replace('\"', '')\n",
    "    cleaned_line_quotes.append(update)\n",
    "\n",
    "header = cleaned_line_quotes[0]\n",
    "data = cleaned_line_quotes[1:]\n",
    "\n",
    "header = header.split(',')\n",
    "new_data = []\n",
    "for row in data:\n",
    "    update = row.split(',')\n",
    "    new_data.append(update)\n",
    "\n",
    "print header\n",
    "new_data\n",
    "# the pokedex string is assigned to the raw_pd variable"
   ]
  }
 ],
 "metadata": {
  "kernelspec": {
   "display_name": "Python 3",
   "language": "python",
   "name": "python3"
  },
  "language_info": {
   "codemirror_mode": {
    "name": "ipython",
    "version": 3
   },
   "file_extension": ".py",
   "mimetype": "text/x-python",
   "name": "python",
   "nbconvert_exporter": "python",
   "pygments_lexer": "ipython3",
   "version": "3.6.0"
  }
 },
 "nbformat": 4,
 "nbformat_minor": 2
}
